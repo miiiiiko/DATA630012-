{
 "cells": [
  {
   "cell_type": "markdown",
   "id": "09bbeec9",
   "metadata": {},
   "source": [
    "# Homework 1\n",
    "\n",
    "秦思淼 22210980066"
   ]
  },
  {
   "cell_type": "markdown",
   "id": "b152b34a",
   "metadata": {},
   "source": [
    "# Question 1"
   ]
  },
  {
   "cell_type": "markdown",
   "id": "3e7f56c6",
   "metadata": {},
   "source": [
    "# 数据读取与预处理"
   ]
  },
  {
   "cell_type": "markdown",
   "id": "33ed8bc0",
   "metadata": {},
   "source": [
    "首先，导入相关包。"
   ]
  },
  {
   "cell_type": "code",
   "execution_count": 1,
   "id": "5ecc20e8",
   "metadata": {},
   "outputs": [],
   "source": [
    "import numpy as np\n",
    "import pandas as pd \n",
    "import matplotlib.pyplot as plt \n",
    "from datetime import datetime\n",
    "from numpy import array\n",
    "import cvxpy as cp"
   ]
  },
  {
   "cell_type": "markdown",
   "id": "c15f75b8",
   "metadata": {},
   "source": [
    "然后读取数据并对数据进行预处理，因为数据是根据日期逆序排列，所以需要对dataframe逆序读取得到日期正序的数据，同时注意到某些股票在一些日期的价格是空值，这里采取前一天的数据替换空值，当作当天的股票价格。"
   ]
  },
  {
   "cell_type": "code",
   "execution_count": 2,
   "id": "044ab9a1",
   "metadata": {},
   "outputs": [
    {
     "data": {
      "text/html": [
       "<div>\n",
       "<style scoped>\n",
       "    .dataframe tbody tr th:only-of-type {\n",
       "        vertical-align: middle;\n",
       "    }\n",
       "\n",
       "    .dataframe tbody tr th {\n",
       "        vertical-align: top;\n",
       "    }\n",
       "\n",
       "    .dataframe thead th {\n",
       "        text-align: right;\n",
       "    }\n",
       "</style>\n",
       "<table border=\"1\" class=\"dataframe\">\n",
       "  <thead>\n",
       "    <tr style=\"text-align: right;\">\n",
       "      <th></th>\n",
       "      <th>trade_date</th>\n",
       "      <th>沪深300</th>\n",
       "      <th>600999.SH</th>\n",
       "      <th>601001.SH</th>\n",
       "      <th>601002.SH</th>\n",
       "      <th>601003.SH</th>\n",
       "      <th>601005.SH</th>\n",
       "      <th>601006.SH</th>\n",
       "      <th>601007.SH</th>\n",
       "      <th>601008.SH</th>\n",
       "      <th>...</th>\n",
       "      <th>601898.SH</th>\n",
       "      <th>601899.SH</th>\n",
       "      <th>601918.SH</th>\n",
       "      <th>601919.SH</th>\n",
       "      <th>601939.SH</th>\n",
       "      <th>601958.SH</th>\n",
       "      <th>601988.SH</th>\n",
       "      <th>601989.SH</th>\n",
       "      <th>601991.SH</th>\n",
       "      <th>601998.SH</th>\n",
       "    </tr>\n",
       "  </thead>\n",
       "  <tbody>\n",
       "    <tr>\n",
       "      <th>2916</th>\n",
       "      <td>20100104</td>\n",
       "      <td>3535.23</td>\n",
       "      <td>44.78</td>\n",
       "      <td>7.95</td>\n",
       "      <td>8.38</td>\n",
       "      <td>5.75</td>\n",
       "      <td>10.21</td>\n",
       "      <td>8.47</td>\n",
       "      <td>7.79</td>\n",
       "      <td>18.87</td>\n",
       "      <td>...</td>\n",
       "      <td>9.62</td>\n",
       "      <td>17.84</td>\n",
       "      <td>13.71</td>\n",
       "      <td>6.12</td>\n",
       "      <td>18.81</td>\n",
       "      <td>4.29</td>\n",
       "      <td>7.63</td>\n",
       "      <td>8.96</td>\n",
       "      <td>8.07</td>\n",
       "      <td>NaN</td>\n",
       "    </tr>\n",
       "    <tr>\n",
       "      <th>2915</th>\n",
       "      <td>20100105</td>\n",
       "      <td>3564.04</td>\n",
       "      <td>30.85</td>\n",
       "      <td>46.54</td>\n",
       "      <td>8.09</td>\n",
       "      <td>8.31</td>\n",
       "      <td>5.78</td>\n",
       "      <td>10.16</td>\n",
       "      <td>8.47</td>\n",
       "      <td>7.91</td>\n",
       "      <td>...</td>\n",
       "      <td>13.97</td>\n",
       "      <td>9.82</td>\n",
       "      <td>18.53</td>\n",
       "      <td>14.07</td>\n",
       "      <td>6.21</td>\n",
       "      <td>19.53</td>\n",
       "      <td>4.34</td>\n",
       "      <td>7.60</td>\n",
       "      <td>9.18</td>\n",
       "      <td>8.17</td>\n",
       "    </tr>\n",
       "    <tr>\n",
       "      <th>2914</th>\n",
       "      <td>20100106</td>\n",
       "      <td>3541.73</td>\n",
       "      <td>30.16</td>\n",
       "      <td>47.21</td>\n",
       "      <td>7.90</td>\n",
       "      <td>8.68</td>\n",
       "      <td>5.82</td>\n",
       "      <td>10.17</td>\n",
       "      <td>8.42</td>\n",
       "      <td>7.77</td>\n",
       "      <td>...</td>\n",
       "      <td>14.10</td>\n",
       "      <td>9.68</td>\n",
       "      <td>18.47</td>\n",
       "      <td>14.10</td>\n",
       "      <td>6.11</td>\n",
       "      <td>19.45</td>\n",
       "      <td>4.29</td>\n",
       "      <td>7.69</td>\n",
       "      <td>9.15</td>\n",
       "      <td>7.94</td>\n",
       "    </tr>\n",
       "    <tr>\n",
       "      <th>2913</th>\n",
       "      <td>20100107</td>\n",
       "      <td>3471.46</td>\n",
       "      <td>29.91</td>\n",
       "      <td>46.27</td>\n",
       "      <td>7.62</td>\n",
       "      <td>8.49</td>\n",
       "      <td>5.67</td>\n",
       "      <td>9.95</td>\n",
       "      <td>8.25</td>\n",
       "      <td>7.54</td>\n",
       "      <td>...</td>\n",
       "      <td>13.72</td>\n",
       "      <td>9.51</td>\n",
       "      <td>17.83</td>\n",
       "      <td>13.68</td>\n",
       "      <td>6.02</td>\n",
       "      <td>19.29</td>\n",
       "      <td>4.21</td>\n",
       "      <td>7.60</td>\n",
       "      <td>8.94</td>\n",
       "      <td>7.67</td>\n",
       "    </tr>\n",
       "    <tr>\n",
       "      <th>2912</th>\n",
       "      <td>20100108</td>\n",
       "      <td>3480.13</td>\n",
       "      <td>30.53</td>\n",
       "      <td>45.20</td>\n",
       "      <td>7.72</td>\n",
       "      <td>8.34</td>\n",
       "      <td>5.94</td>\n",
       "      <td>9.94</td>\n",
       "      <td>8.32</td>\n",
       "      <td>7.59</td>\n",
       "      <td>...</td>\n",
       "      <td>13.81</td>\n",
       "      <td>9.43</td>\n",
       "      <td>17.51</td>\n",
       "      <td>13.62</td>\n",
       "      <td>6.04</td>\n",
       "      <td>18.88</td>\n",
       "      <td>4.23</td>\n",
       "      <td>7.52</td>\n",
       "      <td>8.89</td>\n",
       "      <td>7.74</td>\n",
       "    </tr>\n",
       "    <tr>\n",
       "      <th>...</th>\n",
       "      <td>...</td>\n",
       "      <td>...</td>\n",
       "      <td>...</td>\n",
       "      <td>...</td>\n",
       "      <td>...</td>\n",
       "      <td>...</td>\n",
       "      <td>...</td>\n",
       "      <td>...</td>\n",
       "      <td>...</td>\n",
       "      <td>...</td>\n",
       "      <td>...</td>\n",
       "      <td>...</td>\n",
       "      <td>...</td>\n",
       "      <td>...</td>\n",
       "      <td>...</td>\n",
       "      <td>...</td>\n",
       "      <td>...</td>\n",
       "      <td>...</td>\n",
       "      <td>...</td>\n",
       "      <td>...</td>\n",
       "      <td>...</td>\n",
       "    </tr>\n",
       "    <tr>\n",
       "      <th>4</th>\n",
       "      <td>20211227</td>\n",
       "      <td>4919.32</td>\n",
       "      <td>17.30</td>\n",
       "      <td>10.41</td>\n",
       "      <td>5.09</td>\n",
       "      <td>5.23</td>\n",
       "      <td>2.11</td>\n",
       "      <td>6.35</td>\n",
       "      <td>5.64</td>\n",
       "      <td>3.87</td>\n",
       "      <td>...</td>\n",
       "      <td>6.62</td>\n",
       "      <td>9.58</td>\n",
       "      <td>4.79</td>\n",
       "      <td>18.70</td>\n",
       "      <td>5.87</td>\n",
       "      <td>6.80</td>\n",
       "      <td>3.06</td>\n",
       "      <td>4.16</td>\n",
       "      <td>3.39</td>\n",
       "      <td>4.59</td>\n",
       "    </tr>\n",
       "    <tr>\n",
       "      <th>3</th>\n",
       "      <td>20211228</td>\n",
       "      <td>4955.96</td>\n",
       "      <td>17.38</td>\n",
       "      <td>9.90</td>\n",
       "      <td>5.09</td>\n",
       "      <td>5.22</td>\n",
       "      <td>2.08</td>\n",
       "      <td>6.32</td>\n",
       "      <td>5.65</td>\n",
       "      <td>3.89</td>\n",
       "      <td>...</td>\n",
       "      <td>6.40</td>\n",
       "      <td>9.71</td>\n",
       "      <td>4.60</td>\n",
       "      <td>19.60</td>\n",
       "      <td>5.91</td>\n",
       "      <td>6.83</td>\n",
       "      <td>3.07</td>\n",
       "      <td>4.17</td>\n",
       "      <td>3.25</td>\n",
       "      <td>4.62</td>\n",
       "    </tr>\n",
       "    <tr>\n",
       "      <th>2</th>\n",
       "      <td>20211229</td>\n",
       "      <td>4883.48</td>\n",
       "      <td>17.26</td>\n",
       "      <td>9.75</td>\n",
       "      <td>5.09</td>\n",
       "      <td>5.23</td>\n",
       "      <td>2.08</td>\n",
       "      <td>6.32</td>\n",
       "      <td>5.71</td>\n",
       "      <td>3.92</td>\n",
       "      <td>...</td>\n",
       "      <td>6.37</td>\n",
       "      <td>9.62</td>\n",
       "      <td>4.66</td>\n",
       "      <td>19.45</td>\n",
       "      <td>5.87</td>\n",
       "      <td>6.82</td>\n",
       "      <td>3.05</td>\n",
       "      <td>4.21</td>\n",
       "      <td>3.15</td>\n",
       "      <td>4.63</td>\n",
       "    </tr>\n",
       "    <tr>\n",
       "      <th>1</th>\n",
       "      <td>20211230</td>\n",
       "      <td>4921.51</td>\n",
       "      <td>17.53</td>\n",
       "      <td>9.66</td>\n",
       "      <td>5.05</td>\n",
       "      <td>5.23</td>\n",
       "      <td>2.07</td>\n",
       "      <td>6.38</td>\n",
       "      <td>5.73</td>\n",
       "      <td>3.89</td>\n",
       "      <td>...</td>\n",
       "      <td>6.36</td>\n",
       "      <td>9.64</td>\n",
       "      <td>4.60</td>\n",
       "      <td>18.70</td>\n",
       "      <td>5.87</td>\n",
       "      <td>6.82</td>\n",
       "      <td>3.05</td>\n",
       "      <td>4.22</td>\n",
       "      <td>3.20</td>\n",
       "      <td>4.61</td>\n",
       "    </tr>\n",
       "    <tr>\n",
       "      <th>0</th>\n",
       "      <td>20211231</td>\n",
       "      <td>4940.37</td>\n",
       "      <td>17.65</td>\n",
       "      <td>9.61</td>\n",
       "      <td>5.17</td>\n",
       "      <td>5.22</td>\n",
       "      <td>2.09</td>\n",
       "      <td>6.40</td>\n",
       "      <td>5.72</td>\n",
       "      <td>3.85</td>\n",
       "      <td>...</td>\n",
       "      <td>6.29</td>\n",
       "      <td>9.70</td>\n",
       "      <td>4.54</td>\n",
       "      <td>18.69</td>\n",
       "      <td>5.86</td>\n",
       "      <td>6.85</td>\n",
       "      <td>3.05</td>\n",
       "      <td>4.22</td>\n",
       "      <td>3.24</td>\n",
       "      <td>4.62</td>\n",
       "    </tr>\n",
       "  </tbody>\n",
       "</table>\n",
       "<p>2917 rows × 52 columns</p>\n",
       "</div>"
      ],
      "text/plain": [
       "      trade_date    沪深300  600999.SH  601001.SH  601002.SH  601003.SH  \\\n",
       "2916    20100104  3535.23      44.78       7.95       8.38       5.75   \n",
       "2915    20100105  3564.04      30.85      46.54       8.09       8.31   \n",
       "2914    20100106  3541.73      30.16      47.21       7.90       8.68   \n",
       "2913    20100107  3471.46      29.91      46.27       7.62       8.49   \n",
       "2912    20100108  3480.13      30.53      45.20       7.72       8.34   \n",
       "...          ...      ...        ...        ...        ...        ...   \n",
       "4       20211227  4919.32      17.30      10.41       5.09       5.23   \n",
       "3       20211228  4955.96      17.38       9.90       5.09       5.22   \n",
       "2       20211229  4883.48      17.26       9.75       5.09       5.23   \n",
       "1       20211230  4921.51      17.53       9.66       5.05       5.23   \n",
       "0       20211231  4940.37      17.65       9.61       5.17       5.22   \n",
       "\n",
       "      601005.SH  601006.SH  601007.SH  601008.SH  ...  601898.SH  601899.SH  \\\n",
       "2916      10.21       8.47       7.79      18.87  ...       9.62      17.84   \n",
       "2915       5.78      10.16       8.47       7.91  ...      13.97       9.82   \n",
       "2914       5.82      10.17       8.42       7.77  ...      14.10       9.68   \n",
       "2913       5.67       9.95       8.25       7.54  ...      13.72       9.51   \n",
       "2912       5.94       9.94       8.32       7.59  ...      13.81       9.43   \n",
       "...         ...        ...        ...        ...  ...        ...        ...   \n",
       "4          2.11       6.35       5.64       3.87  ...       6.62       9.58   \n",
       "3          2.08       6.32       5.65       3.89  ...       6.40       9.71   \n",
       "2          2.08       6.32       5.71       3.92  ...       6.37       9.62   \n",
       "1          2.07       6.38       5.73       3.89  ...       6.36       9.64   \n",
       "0          2.09       6.40       5.72       3.85  ...       6.29       9.70   \n",
       "\n",
       "      601918.SH  601919.SH  601939.SH  601958.SH  601988.SH  601989.SH  \\\n",
       "2916      13.71       6.12      18.81       4.29       7.63       8.96   \n",
       "2915      18.53      14.07       6.21      19.53       4.34       7.60   \n",
       "2914      18.47      14.10       6.11      19.45       4.29       7.69   \n",
       "2913      17.83      13.68       6.02      19.29       4.21       7.60   \n",
       "2912      17.51      13.62       6.04      18.88       4.23       7.52   \n",
       "...         ...        ...        ...        ...        ...        ...   \n",
       "4          4.79      18.70       5.87       6.80       3.06       4.16   \n",
       "3          4.60      19.60       5.91       6.83       3.07       4.17   \n",
       "2          4.66      19.45       5.87       6.82       3.05       4.21   \n",
       "1          4.60      18.70       5.87       6.82       3.05       4.22   \n",
       "0          4.54      18.69       5.86       6.85       3.05       4.22   \n",
       "\n",
       "      601991.SH  601998.SH  \n",
       "2916       8.07        NaN  \n",
       "2915       9.18       8.17  \n",
       "2914       9.15       7.94  \n",
       "2913       8.94       7.67  \n",
       "2912       8.89       7.74  \n",
       "...         ...        ...  \n",
       "4          3.39       4.59  \n",
       "3          3.25       4.62  \n",
       "2          3.15       4.63  \n",
       "1          3.20       4.61  \n",
       "0          3.24       4.62  \n",
       "\n",
       "[2917 rows x 52 columns]"
      ]
     },
     "execution_count": 2,
     "metadata": {},
     "output_type": "execute_result"
    }
   ],
   "source": [
    "data = pd.read_csv('his_close_price.csv',encoding = 'gbk')\n",
    "data = data.iloc[::-1]\n",
    "data"
   ]
  },
  {
   "cell_type": "code",
   "execution_count": 3,
   "id": "4cb7652d",
   "metadata": {},
   "outputs": [],
   "source": [
    "trade_date = []\n",
    "HS300 = []\n",
    "HS300_return = []\n",
    "stock_name = []    # 股票名称\n",
    "stock_price = []   #股票价格\n",
    "stock_return = []  #股票收益率\n",
    "\n",
    "# 载入数据\n",
    "for i in range(2,len(data.columns)):\n",
    "    stock_name.append(data.columns[i])\n",
    "for i in range(len(data)):\n",
    "    date = str(int(data.iloc[i][0]))\n",
    "    trade_date.append(datetime(int(date[:4]),int(date[4:6]),int(date[6:])))\n",
    "    HS300.append(data.iloc[i][1])\n",
    "    stock_price.append(data.iloc[i][2:].to_numpy()) #这里股票价格有点问题，有一些值是NAN，需要处理一下\n",
    "    for j in range(len(stock_name)):\n",
    "        if np.isnan(stock_price[i][j]):\n",
    "            stock_price[i][j] = stock_price[i-1][j] if i else data.iloc[i+1][j+2]\n",
    "            "
   ]
  },
  {
   "cell_type": "code",
   "execution_count": 4,
   "id": "03120810",
   "metadata": {},
   "outputs": [
    {
     "data": {
      "text/plain": [
       "0"
      ]
     },
     "execution_count": 4,
     "metadata": {},
     "output_type": "execute_result"
    }
   ],
   "source": [
    "#检查是否还有NAN\n",
    "n = 0\n",
    "for i in range(len(data)):\n",
    "    for j in range(len(stock_name)):\n",
    "        n += int(np.isnan(stock_price[i][j]))\n",
    "n"
   ]
  },
  {
   "cell_type": "code",
   "execution_count": 5,
   "id": "85ef0799",
   "metadata": {},
   "outputs": [],
   "source": [
    "stock_price = np.array(stock_price)"
   ]
  },
  {
   "cell_type": "markdown",
   "id": "7db2a2ae",
   "metadata": {},
   "source": [
    "接下来计算return"
   ]
  },
  {
   "cell_type": "code",
   "execution_count": 6,
   "id": "0bd587a7",
   "metadata": {},
   "outputs": [],
   "source": [
    "#为了对齐,添加全1行，这样return[i]表示的是trade_date[i]当天收益率\n",
    "HS300_return.append(1)\n",
    "stock_return.append(np.ones(len(stock_name)))\n",
    "for i in range(1,len(data)):\n",
    "    stock_return.append([np.log(stock_price[i][j]/stock_price[i-1][j]) for j in range(len(stock_name))])\n",
    "    HS300_return.append(np.log(HS300[i]/HS300[i-1]))"
   ]
  },
  {
   "cell_type": "code",
   "execution_count": 7,
   "id": "ce3ea451",
   "metadata": {},
   "outputs": [],
   "source": [
    "stock_return = np.array(stock_return)"
   ]
  },
  {
   "cell_type": "markdown",
   "id": "c83ea079",
   "metadata": {},
   "source": [
    "# Sliding window"
   ]
  },
  {
   "cell_type": "markdown",
   "id": "92de42ee",
   "metadata": {},
   "source": [
    "compared_date是为了辅助找出trade_date里每隔四个月的第一天"
   ]
  },
  {
   "cell_type": "code",
   "execution_count": 8,
   "id": "8a5d294a",
   "metadata": {},
   "outputs": [],
   "source": [
    "compared_date = [[datetime(2010,1,1),datetime(2015,1,1)]]\n",
    "while True:\n",
    "    date = compared_date[-1][-1]\n",
    "    year = date.year\n",
    "    month = date.month\n",
    "    month += 4\n",
    "    if month > 12:\n",
    "        month -= 12\n",
    "        year += 1\n",
    "    new_date = [datetime(year-5,month,1),datetime(year, month, 1)]\n",
    "    if new_date[-1] > trade_date[-1]:\n",
    "        break\n",
    "    compared_date.append(new_date)"
   ]
  },
  {
   "cell_type": "code",
   "execution_count": 9,
   "id": "0e4cd543",
   "metadata": {},
   "outputs": [],
   "source": [
    "def sliding_window(compared_date):\n",
    "    start_index = end_index = 1\n",
    "    for s,e in compared_date:\n",
    "        while trade_date[start_index] < s:\n",
    "            start_index += 1\n",
    "        while trade_date[end_index] < e:\n",
    "            end_index += 1\n",
    "        yield (start_index, end_index) \n",
    "        #trade_date[end_index]是计算最优投资组合的交易日，trade_date[start_index]是五年前开始估算均值与方差的时间\n",
    "    "
   ]
  },
  {
   "cell_type": "code",
   "execution_count": 10,
   "id": "a2ad8ed6",
   "metadata": {},
   "outputs": [],
   "source": [
    "runner = sliding_window(compared_date)\n",
    "adjust_index = []\n",
    "adjust_date = []\n",
    "compute_period = []\n",
    "for s,e in runner:\n",
    "    adjust_index.append(e)\n",
    "    adjust_date.append(trade_date[e])\n",
    "    compute_period.append([s,e])"
   ]
  },
  {
   "cell_type": "markdown",
   "id": "8e407c1f",
   "metadata": {},
   "source": [
    "# 一些工具函数"
   ]
  },
  {
   "cell_type": "code",
   "execution_count": 11,
   "id": "23146a9d",
   "metadata": {},
   "outputs": [],
   "source": [
    "def get_expected_returns(returns):\n",
    "    return np.mean(returns, axis = 0)"
   ]
  },
  {
   "cell_type": "code",
   "execution_count": 12,
   "id": "3b8e707b",
   "metadata": {},
   "outputs": [],
   "source": [
    "def get_cov(returns):\n",
    "    return np.cov(returns, y = None, rowvar = False)"
   ]
  },
  {
   "cell_type": "code",
   "execution_count": 13,
   "id": "629aa279",
   "metadata": {},
   "outputs": [],
   "source": [
    "def Bestportfolio(returns):\n",
    "    n = len(returns[0]) + 1\n",
    "    expected_r = 0.06/252\n",
    "    riskless_r = 0.03/252\n",
    "    expected_returns = get_expected_returns(returns)\n",
    "    Sigma = get_cov(returns) # 50*50\n",
    "    r = np.array(np.append(riskless_r, expected_returns))\n",
    "    \n",
    "    w = cp.Variable(n) # 第0维是无风险占的比例,一共51维\n",
    "    objective = cp.Minimize(1/2 * cp.quad_form(w[1:], Sigma))\n",
    "    constraints = [w.T @ r == expected_r, cp.sum(w) == 1]\n",
    "    prob = cp.Problem(objective, constraints)\n",
    "    prob.solve()\n",
    "    return w.value"
   ]
  },
  {
   "cell_type": "markdown",
   "id": "37f0ca37",
   "metadata": {},
   "source": [
    "假设无风险不加入投资组合"
   ]
  },
  {
   "cell_type": "code",
   "execution_count": 14,
   "id": "fe703c3d",
   "metadata": {},
   "outputs": [],
   "source": [
    "def ignore_riskless(returns):\n",
    "    n = len(returns[0])\n",
    "    expected_r = 0.06/252\n",
    "    r = get_expected_returns(returns)\n",
    "    Sigma = get_cov(returns) # 50*50\n",
    "    \n",
    "    w = cp.Variable(n) # 50维\n",
    "    objective = cp.Minimize(1/2 * cp.quad_form(w, Sigma))\n",
    "    constraints = [w.T @ r == expected_r, cp.sum(w) == 1]\n",
    "    prob = cp.Problem(objective, constraints)\n",
    "    prob.solve()\n",
    "    return w.value\n",
    "    "
   ]
  },
  {
   "cell_type": "code",
   "execution_count": 15,
   "id": "d1b81646",
   "metadata": {},
   "outputs": [],
   "source": [
    "def next_period_returns(w, index_s, index_e):\n",
    "    portfolio_returns = []\n",
    "    r0 = 0.03/252\n",
    "    for i in range(index_s + 1, index_e + 1): # trade_date[index_s]这一天更改投资组合，收益率从下一天算起\n",
    "        daily_returns = stock_return[i]\n",
    "        portfolio_returns.append(w.T[1:] @ daily_returns + w[0]*r0)\n",
    "    return portfolio_returns"
   ]
  },
  {
   "cell_type": "code",
   "execution_count": 16,
   "id": "ee7c40a0",
   "metadata": {},
   "outputs": [],
   "source": [
    "def next_period_returns2(w, index_s, index_e):\n",
    "    portfolio_returns = []\n",
    "    for i in range(index_s + 1, index_e + 1): # trade_date[index_s]这一天更改投资组合，收益率从下一天算起\n",
    "        daily_returns = stock_return[i]\n",
    "        portfolio_returns.append(w.T @ daily_returns)\n",
    "    return portfolio_returns"
   ]
  },
  {
   "cell_type": "code",
   "execution_count": 17,
   "id": "15311032",
   "metadata": {},
   "outputs": [],
   "source": [
    "portfolio_returns = []\n",
    "portfolio_returns2 = []\n",
    "for i in range(len(adjust_index)-1):\n",
    "    returns = stock_return[compute_period[i][0]:compute_period[i][1]+1]\n",
    "    w = Bestportfolio(returns)\n",
    "    w2 = ignore_riskless(returns)\n",
    "    portfolio_returns.extend(next_period_returns(w,adjust_index[i],adjust_index[i+1]))\n",
    "    portfolio_returns2.extend(next_period_returns2(w2,adjust_index[i],adjust_index[i+1]))\n",
    "returns = stock_return[compute_period[-1][0]:compute_period[-1][1]+1]\n",
    "w = Bestportfolio(returns)\n",
    "w2 = ignore_riskless(returns)\n",
    "portfolio_returns.extend(next_period_returns(w,adjust_index[-1],len(stock_return)-1))\n",
    "portfolio_returns2.extend(next_period_returns2(w2,adjust_index[-1],len(stock_return)-1))"
   ]
  },
  {
   "cell_type": "code",
   "execution_count": 18,
   "id": "a10d2db7",
   "metadata": {},
   "outputs": [],
   "source": [
    "running_dates = trade_date[adjust_index[0]:]"
   ]
  },
  {
   "cell_type": "code",
   "execution_count": 19,
   "id": "b83c6acb",
   "metadata": {},
   "outputs": [],
   "source": [
    "asset_price = lambda l : [1 + sum(l[:i+1]) for i in range(len(l))]"
   ]
  },
  {
   "cell_type": "code",
   "execution_count": 20,
   "id": "8698410f",
   "metadata": {},
   "outputs": [
    {
     "name": "stdout",
     "output_type": "stream",
     "text": [
      "1.0485320687873634\n"
     ]
    }
   ],
   "source": [
    "running_HS300 = asset_price(HS300_return[adjust_index[0]+1:])\n",
    "running_portfolio = asset_price(portfolio_returns)\n",
    "running_portfolio2 = asset_price(portfolio_returns2)\n",
    "running_HS300 = [1]+running_HS300\n",
    "running_portfolio = [1] + running_portfolio\n",
    "running_portfolio2 = [1] + running_portfolio2\n",
    "print(running_portfolio[-1])"
   ]
  },
  {
   "cell_type": "code",
   "execution_count": 21,
   "id": "f0da2bfd",
   "metadata": {},
   "outputs": [
    {
     "data": {
      "image/png": "[encoded data removed]",
      "text/plain": [
       "<Figure size 720x432 with 1 Axes>"
      ]
     },
     "metadata": {
      "needs_background": "light"
     },
     "output_type": "display_data"
    }
   ],
   "source": [
    "plt.figure(figsize=(10,6))\n",
    "plt.plot(running_dates, running_portfolio, label=\"Markowitz Portfolio Selection\")\n",
    "plt.plot(running_dates, running_HS300, label=\"HS300\")\n",
    "plt.legend()\n",
    "plt.xlabel('Time')\n",
    "plt.ylabel('Price')\n",
    "axis = plt.gca()\n",
    "plt.show()"
   ]
  },
  {
   "cell_type": "code",
   "execution_count": 22,
   "id": "51b62809",
   "metadata": {},
   "outputs": [
    {
     "data": {
      "image/png": "[encoded data removed]",
      "text/plain": [
       "<Figure size 720x432 with 1 Axes>"
      ]
     },
     "metadata": {
      "needs_background": "light"
     },
     "output_type": "display_data"
    }
   ],
   "source": [
    "plt.figure(figsize=(10,6))\n",
    "plt.plot(running_dates, running_portfolio2, label=\"Markowitz Portfolio Selection\")\n",
    "plt.plot(running_dates, running_HS300, label=\"HS300\")\n",
    "plt.legend()\n",
    "axis = plt.gca()\n",
    "plt.show()"
   ]
  },
  {
   "cell_type": "markdown",
   "id": "4b654c09",
   "metadata": {},
   "source": [
    "# Question 2\n",
    "\n",
    "从之前计算好的return矩阵中随机取6列，做线性回归，从而得到beta值和alpha值，并对alpha = 0 做假设检验，计算其p值，与0.05比较"
   ]
  },
  {
   "cell_type": "code",
   "execution_count": 23,
   "id": "40e3ea61",
   "metadata": {},
   "outputs": [],
   "source": [
    "import statsmodels.api as sm"
   ]
  },
  {
   "cell_type": "markdown",
   "id": "530d53f7",
   "metadata": {},
   "source": [
    "随机取6个index,改变随机种子获得不同的数"
   ]
  },
  {
   "cell_type": "code",
   "execution_count": 24,
   "id": "fb678734",
   "metadata": {},
   "outputs": [],
   "source": [
    "np.random.seed(888)\n",
    "ls = list(range(stock_return.shape[-1]))\n",
    "indices = list(np.random.choice(ls, size = 6,replace = False))\n",
    "indices.sort()\n"
   ]
  },
  {
   "cell_type": "code",
   "execution_count": 25,
   "id": "713ba063",
   "metadata": {},
   "outputs": [],
   "source": [
    "new_return = []\n",
    "new_name = []\n",
    "for i in indices:\n",
    "    new_return.append(stock_return[:,i])\n",
    "    new_name.append(stock_name[i])"
   ]
  },
  {
   "cell_type": "code",
   "execution_count": 26,
   "id": "da90043f",
   "metadata": {},
   "outputs": [],
   "source": [
    "new_return = np.array(new_return).T\n",
    "HS300_return = np.array(HS300_return)\n",
    "r0 = 0.06/252\n",
    "x = HS300_return - r0\n",
    "x = sm.add_constant(x)\n",
    "Y = new_return - r0"
   ]
  },
  {
   "cell_type": "code",
   "execution_count": 27,
   "id": "25d52398",
   "metadata": {},
   "outputs": [
    {
     "data": {
      "text/plain": [
       "(2917, 6)"
      ]
     },
     "execution_count": 27,
     "metadata": {},
     "output_type": "execute_result"
    }
   ],
   "source": [
    "Y.shape"
   ]
  },
  {
   "cell_type": "code",
   "execution_count": 28,
   "id": "795d83f1",
   "metadata": {},
   "outputs": [],
   "source": [
    "models = []\n",
    "for i in range(6):\n",
    "    model = sm.OLS(Y[:,i],x).fit()\n",
    "    models.append(model)"
   ]
  },
  {
   "cell_type": "markdown",
   "id": "5da9f3d3",
   "metadata": {},
   "source": [
    "打印结果"
   ]
  },
  {
   "cell_type": "code",
   "execution_count": 29,
   "id": "dfc3da03",
   "metadata": {},
   "outputs": [
    {
     "data": {
      "text/html": [
       "<div>\n",
       "<style scoped>\n",
       "    .dataframe tbody tr th:only-of-type {\n",
       "        vertical-align: middle;\n",
       "    }\n",
       "\n",
       "    .dataframe tbody tr th {\n",
       "        vertical-align: top;\n",
       "    }\n",
       "\n",
       "    .dataframe thead th {\n",
       "        text-align: right;\n",
       "    }\n",
       "</style>\n",
       "<table border=\"1\" class=\"dataframe\">\n",
       "  <thead>\n",
       "    <tr style=\"text-align: right;\">\n",
       "      <th></th>\n",
       "      <th>code</th>\n",
       "      <th>alpha</th>\n",
       "      <th>beta</th>\n",
       "      <th>p-value for alpha=0</th>\n",
       "      <th>reject</th>\n",
       "    </tr>\n",
       "  </thead>\n",
       "  <tbody>\n",
       "    <tr>\n",
       "      <th>0</th>\n",
       "      <td>601006.SH</td>\n",
       "      <td>-0.000189</td>\n",
       "      <td>0.898469</td>\n",
       "      <td>0.459831</td>\n",
       "      <td>False</td>\n",
       "    </tr>\n",
       "    <tr>\n",
       "      <th>1</th>\n",
       "      <td>601107.SH</td>\n",
       "      <td>-0.000302</td>\n",
       "      <td>0.966669</td>\n",
       "      <td>0.365968</td>\n",
       "      <td>False</td>\n",
       "    </tr>\n",
       "    <tr>\n",
       "      <th>2</th>\n",
       "      <td>601168.SH</td>\n",
       "      <td>-0.000241</td>\n",
       "      <td>1.072155</td>\n",
       "      <td>0.518450</td>\n",
       "      <td>False</td>\n",
       "    </tr>\n",
       "    <tr>\n",
       "      <th>3</th>\n",
       "      <td>601601.SH</td>\n",
       "      <td>0.000106</td>\n",
       "      <td>1.032240</td>\n",
       "      <td>0.767262</td>\n",
       "      <td>False</td>\n",
       "    </tr>\n",
       "    <tr>\n",
       "      <th>4</th>\n",
       "      <td>601618.SH</td>\n",
       "      <td>-0.000823</td>\n",
       "      <td>0.958837</td>\n",
       "      <td>0.235810</td>\n",
       "      <td>False</td>\n",
       "    </tr>\n",
       "    <tr>\n",
       "      <th>5</th>\n",
       "      <td>601628.SH</td>\n",
       "      <td>-0.000135</td>\n",
       "      <td>1.024329</td>\n",
       "      <td>0.652241</td>\n",
       "      <td>False</td>\n",
       "    </tr>\n",
       "  </tbody>\n",
       "</table>\n",
       "</div>"
      ],
      "text/plain": [
       "        code     alpha      beta  p-value for alpha=0 reject\n",
       "0  601006.SH -0.000189  0.898469             0.459831  False\n",
       "1  601107.SH -0.000302  0.966669             0.365968  False\n",
       "2  601168.SH -0.000241  1.072155             0.518450  False\n",
       "3  601601.SH  0.000106  1.032240             0.767262  False\n",
       "4  601618.SH -0.000823  0.958837             0.235810  False\n",
       "5  601628.SH -0.000135  1.024329             0.652241  False"
      ]
     },
     "execution_count": 29,
     "metadata": {},
     "output_type": "execute_result"
    }
   ],
   "source": [
    "res = pd.DataFrame([], columns=['code', 'alpha', 'beta', 'p-value for alpha=0','reject'])\n",
    "for i in range(len(models)):\n",
    "    model = models[i]\n",
    "    name = new_name[i]\n",
    "    res.loc[len(res)] = [name, model.params[0], model.params[1], model.pvalues[0], model.pvalues[0] < 0.05]\n",
    "res"
   ]
  },
  {
   "cell_type": "markdown",
   "id": "444d209e",
   "metadata": {},
   "source": [
    "#  Question 3"
   ]
  },
  {
   "cell_type": "markdown",
   "id": "34e34102",
   "metadata": {},
   "source": [
    "首先，根据给出的数据计算二叉树所需要的参数，然后计算价格树，然后就可以迭代计算期权价格了"
   ]
  },
  {
   "cell_type": "code",
   "execution_count": 30,
   "id": "3752748b",
   "metadata": {},
   "outputs": [],
   "source": [
    "k = 40\n",
    "price_tree = {} # （i,j）-> price，其中i是上升的步数，j是下\n",
    "p0 = 40 # 初始价格\n",
    "r0 = 0.03 #无风险利率\n",
    "T = 1.5 #18个月等于1.5年\n",
    "sigma = 0.4 # stock volatility"
   ]
  },
  {
   "cell_type": "code",
   "execution_count": 31,
   "id": "5672a7ce",
   "metadata": {},
   "outputs": [],
   "source": [
    "def get_u_d(n):\n",
    "    u = np.exp(sigma*np.sqrt(T/n))\n",
    "    d = 1/u\n",
    "    return u,d"
   ]
  },
  {
   "cell_type": "code",
   "execution_count": 32,
   "id": "e740e243",
   "metadata": {},
   "outputs": [],
   "source": [
    "def get_p(u,d,n):\n",
    "    a = np.exp(r0*T/n)\n",
    "    return (a - d)/(u - d)"
   ]
  },
  {
   "cell_type": "code",
   "execution_count": 33,
   "id": "a5b75235",
   "metadata": {},
   "outputs": [],
   "source": [
    "def price(n,u,d):\n",
    "    price_tree = {(0,0):p0}\n",
    "    for steps in range(1, n+1):\n",
    "        for i in range(0, steps+1):\n",
    "            j = steps - i\n",
    "            price_tree[(i,j)] = p0 * np.power(u,i-j)\n",
    "    return price_tree"
   ]
  },
  {
   "cell_type": "code",
   "execution_count": 34,
   "id": "ec62603a",
   "metadata": {},
   "outputs": [],
   "source": [
    "def get_put_price(price_tree, n, p):\n",
    "    put_price_tree = {}\n",
    "    a = np.exp(r0*T/n)\n",
    "    for i in range(n+1):\n",
    "        j = n - i\n",
    "        put_price_tree[(i,j)] = max(k-price_tree[(i,j)],0)\n",
    "    for num in range(n-1,-1,-1):\n",
    "        for i in range(num+1):\n",
    "            j = num - i\n",
    "            put_price_tree[(i,j)] = (p*put_price_tree[(i+1,j)] + (1-p)*put_price_tree[(i,j+1)])/a\n",
    "    return put_price_tree[(0,0)]\n",
    "        "
   ]
  },
  {
   "cell_type": "code",
   "execution_count": 35,
   "id": "398991d5",
   "metadata": {},
   "outputs": [],
   "source": [
    "put_price_l = []\n",
    "for n in range(1,101):\n",
    "    u,d = get_u_d(n)\n",
    "    p = get_p(u,d,n)\n",
    "    price_tree = price(n,u,d)\n",
    "    put_price_l.append(get_put_price(price_tree,n,p))"
   ]
  },
  {
   "cell_type": "code",
   "execution_count": 36,
   "id": "c6bdf013",
   "metadata": {},
   "outputs": [
    {
     "name": "stdout",
     "output_type": "stream",
     "text": [
      "6.533834281660009 6.6832059975991625 6.702124331429693\n"
     ]
    }
   ],
   "source": [
    "print(put_price_l[9],put_price_l[49],put_price_l[99])"
   ]
  },
  {
   "cell_type": "code",
   "execution_count": 37,
   "id": "60ec9cd0",
   "metadata": {},
   "outputs": [
    {
     "name": "stdout",
     "output_type": "stream",
     "text": [
      "6.721091884244682\n"
     ]
    }
   ],
   "source": [
    "# Black-Scholes\n",
    "from scipy.stats import norm\n",
    "d_1 = (np.log(p0/k) + (r0 + sigma*sigma/2)*T)/(sigma * np.sqrt(T))\n",
    "d_2 = d_1 - sigma*np.sqrt(T)\n",
    "black_scholes_price = k*np.exp(-r0*T)*norm.cdf(-d_2) - p0*norm.cdf(-d_1)\n",
    "print(black_scholes_price)"
   ]
  },
  {
   "cell_type": "code",
   "execution_count": 38,
   "id": "9a0be6d9",
   "metadata": {},
   "outputs": [
    {
     "data": {
      "text/plain": [
       "Text(0, 0.5, 'Option Price')"
      ]
     },
     "execution_count": 38,
     "metadata": {},
     "output_type": "execute_result"
    },
    {
     "data": {
      "image/png": "[encoded data removed]",
      "text/plain": [
       "<Figure size 432x288 with 1 Axes>"
      ]
     },
     "metadata": {
      "needs_background": "light"
     },
     "output_type": "display_data"
    }
   ],
   "source": [
    "b_p = [black_scholes_price]*100\n",
    "plt.plot(range(1,101),put_price_l,label = 'Binomial Tree Model')\n",
    "plt.plot(range(1,101),b_p, label = 'Black_Scholes_Formula')\n",
    "plt.legend()\n",
    "plt.xlabel('n')\n",
    "plt.ylabel('Option Price')"
   ]
  },
  {
   "cell_type": "code",
   "execution_count": 39,
   "id": "9ec6417e",
   "metadata": {},
   "outputs": [],
   "source": [
    "def get_put_price2(price_tree, n, p):\n",
    "    put_price_tree = {}\n",
    "    a = np.exp(r0*T/n)\n",
    "    for i in range(n+1):\n",
    "        j = n - i\n",
    "        put_price_tree[(i,j)] = max(k-price_tree[(i,j)],0)\n",
    "    for num in range(n-1,-1,-1):\n",
    "        for i in range(num+1):\n",
    "            j = num - i\n",
    "            p1 = (p*put_price_tree[(i+1,j)] + (1-p)*put_price_tree[(i,j+1)])/a\n",
    "            p2 = max(k-price_tree[(i,j)],0)\n",
    "            put_price_tree[(i,j)] = max(p1,p2)\n",
    "    return put_price_tree[(0,0)]\n",
    "        "
   ]
  },
  {
   "cell_type": "code",
   "execution_count": 40,
   "id": "5b6718df",
   "metadata": {},
   "outputs": [],
   "source": [
    "put_price_l2 = []\n",
    "for n in range(1,101):\n",
    "    u,d = get_u_d(n)\n",
    "    p = get_p(u,d,n)\n",
    "    price_tree = price(n,u,d)\n",
    "    put_price_l2.append(get_put_price2(price_tree,n,p))"
   ]
  },
  {
   "cell_type": "code",
   "execution_count": 41,
   "id": "e8948b82",
   "metadata": {},
   "outputs": [
    {
     "data": {
      "text/plain": [
       "Text(0, 0.5, 'Option Price')"
      ]
     },
     "execution_count": 41,
     "metadata": {},
     "output_type": "execute_result"
    },
    {
     "data": {
      "image/png": "[encoded data removed]",
      "text/plain": [
       "<Figure size 432x288 with 1 Axes>"
      ]
     },
     "metadata": {
      "needs_background": "light"
     },
     "output_type": "display_data"
    }
   ],
   "source": [
    "plt.plot(range(1,101),put_price_l2)\n",
    "plt.xlabel('n')\n",
    "plt.ylabel('Option Price')"
   ]
  },
  {
   "cell_type": "code",
   "execution_count": 42,
   "id": "ef5c2526",
   "metadata": {},
   "outputs": [
    {
     "data": {
      "text/plain": [
       "6.897469827663956"
      ]
     },
     "execution_count": 42,
     "metadata": {},
     "output_type": "execute_result"
    }
   ],
   "source": [
    "put_price_l2[-1]"
   ]
  }
 ],
 "metadata": {
  "kernelspec": {
   "display_name": "Python 3 (ipykernel)",
   "language": "python",
   "name": "python3"
  },
  "language_info": {
   "codemirror_mode": {
    "name": "ipython",
    "version": 3
   },
   "file_extension": ".py",
   "mimetype": "text/x-python",
   "name": "python",
   "nbconvert_exporter": "python",
   "pygments_lexer": "ipython3",
   "version": "3.9.7"
  }
 },
 "nbformat": 4,
 "nbformat_minor": 5
}
